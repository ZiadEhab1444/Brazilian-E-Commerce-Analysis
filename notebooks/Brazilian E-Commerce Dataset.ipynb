{
 "cells": [
  {
   "cell_type": "markdown",
   "id": "3e16c0c8-46e3-4c88-955f-4263a5c8beb0",
   "metadata": {
    "jp-MarkdownHeadingCollapsed": true
   },
   "source": [
    "## Importing libs\n"
   ]
  },
  {
   "cell_type": "code",
   "execution_count": 1,
   "id": "24a5ce82-096e-4cc7-b98b-bebceee0f116",
   "metadata": {},
   "outputs": [],
   "source": [
    "import kagglehub\n",
    "import pandas as pd\n",
    "import numpy as np\n",
    "import matplotlib.pyplot as plt\n",
    "import seaborn as sns\n",
    "import warnings\n",
    "from datetime import datetime"
   ]
  },
  {
   "cell_type": "markdown",
   "id": "64966d11-dfdb-4027-8ff4-77714d38b093",
   "metadata": {
    "jp-MarkdownHeadingCollapsed": true
   },
   "source": [
    "## Loading Data"
   ]
  },
  {
   "cell_type": "code",
   "execution_count": 2,
   "id": "89f3f4d0-aae8-4c57-96ee-a6ea79171327",
   "metadata": {},
   "outputs": [],
   "source": [
    "path = r'E:\\ZiAd\\Data Analysis Projects\\Brazilian E-Commerce Dataset\\Data'\n",
    "geolocations = pd.read_csv(f'{path}/olist_geolocation_dataset.csv', encoding=\"utf-8\")\n",
    "orders = pd.read_csv(f'{path}/olist_orders_dataset.csv')\n",
    "order_items = pd.read_csv(f'{path}/olist_order_items_dataset.csv')\n",
    "orders_payments = pd.read_csv(f'{path}/olist_order_payments_dataset.csv')\n",
    "products = pd.read_csv(f'{path}/olist_products_dataset.csv')\n",
    "customers = pd.read_csv(f'{path}/olist_customers_dataset.csv')\n",
    "reviews = pd.read_csv(f'{path}/olist_order_reviews_dataset.csv') \n",
    "sellers = pd.read_csv(f'{path}/olist_sellers_dataset.csv') \n",
    "product_category_name_translation = pd.read_csv(f'{path}/product_category_name_translation.csv') "
   ]
  },
  {
   "cell_type": "markdown",
   "id": "b47c59b2-a2d4-4ee1-b5ef-1b7328ebafea",
   "metadata": {},
   "source": [
    "## Data Cleaning"
   ]
  },
  {
   "cell_type": "markdown",
   "id": "8a22f42f-e217-456a-a91b-8b196338d221",
   "metadata": {
    "jp-MarkdownHeadingCollapsed": true
   },
   "source": [
    "#### Handling Missing Values & duplicates"
   ]
  },
  {
   "cell_type": "markdown",
   "id": "1855cfd3-064a-4111-baf8-114e4fc79278",
   "metadata": {
    "jp-MarkdownHeadingCollapsed": true
   },
   "source": [
    "##### geolocations"
   ]
  },
  {
   "cell_type": "code",
   "execution_count": 3,
   "id": "e98218c5-582d-442d-8797-260ab012c343",
   "metadata": {},
   "outputs": [
    {
     "data": {
      "text/plain": [
       "geolocation_zip_code_prefix    0\n",
       "geolocation_lat                0\n",
       "geolocation_lng                0\n",
       "geolocation_city               0\n",
       "geolocation_state              0\n",
       "dtype: int64"
      ]
     },
     "execution_count": 3,
     "metadata": {},
     "output_type": "execute_result"
    }
   ],
   "source": [
    "geolocations.isnull().sum()"
   ]
  },
  {
   "cell_type": "code",
   "execution_count": 4,
   "id": "ebd36e8e-14fd-4254-b0f2-cb47239bc687",
   "metadata": {},
   "outputs": [
    {
     "data": {
      "text/plain": [
       "np.int64(261836)"
      ]
     },
     "execution_count": 4,
     "metadata": {},
     "output_type": "execute_result"
    }
   ],
   "source": [
    "geolocations.duplicated().sum()"
   ]
  },
  {
   "cell_type": "code",
   "execution_count": 5,
   "id": "f05a1d44-fe7a-4069-a734-59bb344872d0",
   "metadata": {},
   "outputs": [
    {
     "data": {
      "text/plain": [
       "np.int64(0)"
      ]
     },
     "execution_count": 5,
     "metadata": {},
     "output_type": "execute_result"
    }
   ],
   "source": [
    "geolocations.drop_duplicates(inplace=True)\n",
    "geolocations.duplicated().sum()"
   ]
  },
  {
   "cell_type": "markdown",
   "id": "9caa05f7-f0bd-4405-9acc-a36da04e023d",
   "metadata": {
    "jp-MarkdownHeadingCollapsed": true
   },
   "source": [
    "##### orders"
   ]
  },
  {
   "cell_type": "code",
   "execution_count": 6,
   "id": "744f380b-11cb-4a7b-b43d-7354598a5233",
   "metadata": {},
   "outputs": [],
   "source": [
    "columns_to_convert = [\n",
    "    'order_purchase_timestamp',\n",
    "    'order_approved_at',\n",
    "    'order_delivered_carrier_date',\n",
    "    'order_delivered_customer_date',\n",
    "    'order_estimated_delivery_date'\n",
    "]\n",
    "\n",
    "for column in columns_to_convert:\n",
    "    orders[column] = pd.to_datetime(orders[column])"
   ]
  },
  {
   "cell_type": "code",
   "execution_count": 7,
   "id": "662d7baa-f5f4-46f4-9192-7fe3dd701987",
   "metadata": {},
   "outputs": [
    {
     "data": {
      "text/plain": [
       "order_id                            0\n",
       "customer_id                         0\n",
       "order_status                        0\n",
       "order_purchase_timestamp            0\n",
       "order_approved_at                 160\n",
       "order_delivered_carrier_date     1783\n",
       "order_delivered_customer_date    2965\n",
       "order_estimated_delivery_date       0\n",
       "dtype: int64"
      ]
     },
     "execution_count": 7,
     "metadata": {},
     "output_type": "execute_result"
    }
   ],
   "source": [
    "orders.isnull().sum()"
   ]
  },
  {
   "cell_type": "code",
   "execution_count": 8,
   "id": "98694cdb-1ede-4a7f-9ba9-acf8cb1fe932",
   "metadata": {},
   "outputs": [
    {
     "data": {
      "text/plain": [
       "order_status\n",
       "shipped        1107\n",
       "canceled        619\n",
       "unavailable     609\n",
       "invoiced        314\n",
       "processing      301\n",
       "delivered         8\n",
       "created           5\n",
       "approved          2\n",
       "Name: count, dtype: int64"
      ]
     },
     "execution_count": 8,
     "metadata": {},
     "output_type": "execute_result"
    }
   ],
   "source": [
    "orders.loc[orders['order_delivered_customer_date'].isna(), 'order_status'].value_counts()"
   ]
  },
  {
   "cell_type": "code",
   "execution_count": 9,
   "id": "2f1d6bd2-95c7-4038-a437-84ccd954075e",
   "metadata": {},
   "outputs": [],
   "source": [
    "rows_to_drop = orders.loc[\n",
    "    (orders['order_status'] == 'delivered') &\n",
    "    (orders['order_delivered_customer_date'].isna())\n",
    "].index\n",
    "\n",
    "orders.drop(rows_to_drop, inplace=True)"
   ]
  },
  {
   "cell_type": "code",
   "execution_count": 10,
   "id": "67713b16-eab1-4cdc-81d7-bd3d38a6ad97",
   "metadata": {},
   "outputs": [
    {
     "data": {
      "text/plain": [
       "np.int64(0)"
      ]
     },
     "execution_count": 10,
     "metadata": {},
     "output_type": "execute_result"
    }
   ],
   "source": [
    "orders.duplicated().sum()"
   ]
  },
  {
   "cell_type": "markdown",
   "id": "5e4ede73-b247-4aa6-9775-48ffcc108836",
   "metadata": {
    "jp-MarkdownHeadingCollapsed": true
   },
   "source": [
    "##### order_items"
   ]
  },
  {
   "cell_type": "code",
   "execution_count": 11,
   "id": "27e45492-d9aa-4e13-a925-169542627b2c",
   "metadata": {},
   "outputs": [
    {
     "data": {
      "text/plain": [
       "order_id               0\n",
       "order_item_id          0\n",
       "product_id             0\n",
       "seller_id              0\n",
       "shipping_limit_date    0\n",
       "price                  0\n",
       "freight_value          0\n",
       "dtype: int64"
      ]
     },
     "execution_count": 11,
     "metadata": {},
     "output_type": "execute_result"
    }
   ],
   "source": [
    "order_items.isnull().sum()"
   ]
  },
  {
   "cell_type": "code",
   "execution_count": 12,
   "id": "54b4cdac-58e6-40eb-b1a9-9468de2b26d4",
   "metadata": {},
   "outputs": [
    {
     "data": {
      "text/plain": [
       "np.int64(0)"
      ]
     },
     "execution_count": 12,
     "metadata": {},
     "output_type": "execute_result"
    }
   ],
   "source": [
    "order_items.duplicated().sum()"
   ]
  },
  {
   "cell_type": "markdown",
   "id": "39465070-a5eb-4ed6-beb8-2061155e7b48",
   "metadata": {
    "jp-MarkdownHeadingCollapsed": true
   },
   "source": [
    "##### order_payments"
   ]
  },
  {
   "cell_type": "code",
   "execution_count": 13,
   "id": "10ad03c4-517c-452d-b27b-774b83ad6a71",
   "metadata": {},
   "outputs": [
    {
     "data": {
      "text/plain": [
       "order_id                0\n",
       "payment_sequential      0\n",
       "payment_type            0\n",
       "payment_installments    0\n",
       "payment_value           0\n",
       "dtype: int64"
      ]
     },
     "execution_count": 13,
     "metadata": {},
     "output_type": "execute_result"
    }
   ],
   "source": [
    "orders_payments.isnull().sum()"
   ]
  },
  {
   "cell_type": "code",
   "execution_count": 14,
   "id": "b7fca6f3-68de-4714-96d7-076548898afc",
   "metadata": {},
   "outputs": [
    {
     "data": {
      "text/plain": [
       "np.int64(0)"
      ]
     },
     "execution_count": 14,
     "metadata": {},
     "output_type": "execute_result"
    }
   ],
   "source": [
    "orders_payments.duplicated().sum()"
   ]
  },
  {
   "cell_type": "markdown",
   "id": "ca73804e-d256-47a5-8517-a10ede32e087",
   "metadata": {
    "jp-MarkdownHeadingCollapsed": true
   },
   "source": [
    "##### products"
   ]
  },
  {
   "cell_type": "code",
   "execution_count": 15,
   "id": "dab12ea1-faaa-4d3e-a371-cbf337025405",
   "metadata": {},
   "outputs": [
    {
     "data": {
      "text/plain": [
       "product_id                      0\n",
       "product_category_name         610\n",
       "product_name_lenght           610\n",
       "product_description_lenght    610\n",
       "product_photos_qty            610\n",
       "product_weight_g                2\n",
       "product_length_cm               2\n",
       "product_height_cm               2\n",
       "product_width_cm                2\n",
       "dtype: int64"
      ]
     },
     "execution_count": 15,
     "metadata": {},
     "output_type": "execute_result"
    }
   ],
   "source": [
    "products.isnull().sum()"
   ]
  },
  {
   "cell_type": "code",
   "execution_count": 16,
   "id": "9b97293d-b878-4b83-8daf-4a4e239061b2",
   "metadata": {},
   "outputs": [
    {
     "data": {
      "text/plain": [
       "np.int64(0)"
      ]
     },
     "execution_count": 16,
     "metadata": {},
     "output_type": "execute_result"
    }
   ],
   "source": [
    "products.duplicated().sum()"
   ]
  },
  {
   "cell_type": "markdown",
   "id": "c79a6481-d6ec-479e-a101-e7dbed9d0252",
   "metadata": {
    "jp-MarkdownHeadingCollapsed": true
   },
   "source": [
    "##### customers"
   ]
  },
  {
   "cell_type": "code",
   "execution_count": 17,
   "id": "dae986d1-7453-4da2-842c-b407d1a0af6c",
   "metadata": {},
   "outputs": [
    {
     "data": {
      "text/plain": [
       "customer_id                 0\n",
       "customer_unique_id          0\n",
       "customer_zip_code_prefix    0\n",
       "customer_city               0\n",
       "customer_state              0\n",
       "dtype: int64"
      ]
     },
     "execution_count": 17,
     "metadata": {},
     "output_type": "execute_result"
    }
   ],
   "source": [
    "customers.isnull().sum()"
   ]
  },
  {
   "cell_type": "code",
   "execution_count": 18,
   "id": "daa7e32f-4c24-4ae4-b8f3-cf0e4d1c5e9b",
   "metadata": {},
   "outputs": [
    {
     "data": {
      "text/plain": [
       "np.int64(0)"
      ]
     },
     "execution_count": 18,
     "metadata": {},
     "output_type": "execute_result"
    }
   ],
   "source": [
    "customers.duplicated().sum()"
   ]
  },
  {
   "cell_type": "markdown",
   "id": "39fc0ad3-9213-4868-94d1-1b8cfaeaff96",
   "metadata": {
    "jp-MarkdownHeadingCollapsed": true
   },
   "source": [
    "##### reviews"
   ]
  },
  {
   "cell_type": "code",
   "execution_count": 19,
   "id": "243ad55f-3826-4815-9050-c10a9faa01a5",
   "metadata": {},
   "outputs": [
    {
     "data": {
      "text/plain": [
       "review_id                      0\n",
       "order_id                       0\n",
       "review_score                   0\n",
       "review_comment_title       87656\n",
       "review_comment_message     58247\n",
       "review_creation_date           0\n",
       "review_answer_timestamp        0\n",
       "dtype: int64"
      ]
     },
     "execution_count": 19,
     "metadata": {},
     "output_type": "execute_result"
    }
   ],
   "source": [
    "reviews.isnull().sum()"
   ]
  },
  {
   "cell_type": "code",
   "execution_count": 20,
   "id": "dee3f71e-1741-43f7-87a8-79d7fb25ee2b",
   "metadata": {},
   "outputs": [
    {
     "data": {
      "text/plain": [
       "np.int64(0)"
      ]
     },
     "execution_count": 20,
     "metadata": {},
     "output_type": "execute_result"
    }
   ],
   "source": [
    "reviews.duplicated().sum()"
   ]
  },
  {
   "cell_type": "markdown",
   "id": "b0584df0-de2d-46ab-87c9-6b4b8e35ee9d",
   "metadata": {
    "jp-MarkdownHeadingCollapsed": true
   },
   "source": [
    "##### sellers"
   ]
  },
  {
   "cell_type": "code",
   "execution_count": 21,
   "id": "b483c389-37ba-4d3e-9730-13d20eba9e18",
   "metadata": {},
   "outputs": [
    {
     "data": {
      "text/plain": [
       "seller_id                 0\n",
       "seller_zip_code_prefix    0\n",
       "seller_city               0\n",
       "seller_state              0\n",
       "dtype: int64"
      ]
     },
     "execution_count": 21,
     "metadata": {},
     "output_type": "execute_result"
    }
   ],
   "source": [
    "sellers.isnull().sum()"
   ]
  },
  {
   "cell_type": "code",
   "execution_count": 22,
   "id": "86269a11-c2aa-4bdb-bd2b-e322a789a31f",
   "metadata": {},
   "outputs": [
    {
     "data": {
      "text/plain": [
       "np.int64(0)"
      ]
     },
     "execution_count": 22,
     "metadata": {},
     "output_type": "execute_result"
    }
   ],
   "source": [
    "sellers.duplicated().sum()"
   ]
  },
  {
   "cell_type": "markdown",
   "id": "abe83a76-5f36-4ca1-80bb-1675682bc795",
   "metadata": {
    "jp-MarkdownHeadingCollapsed": true
   },
   "source": [
    "### Feature Engineering"
   ]
  },
  {
   "cell_type": "code",
   "execution_count": 23,
   "id": "a7933469-5a81-46f3-84c0-70a7703fb336",
   "metadata": {},
   "outputs": [],
   "source": [
    "orders['purchase_day_of_week'] = orders['order_purchase_timestamp'].dt.day_name()\n",
    "\n",
    "orders['purchase_hour_of_day'] = orders['order_purchase_timestamp'].dt.hour\n",
    "\n",
    "orders['seller_handling_time_days'] = (orders['order_delivered_carrier_date'] - orders['order_approved_at']).dt.days\n",
    "\n",
    "orders['delivery_time'] = (orders['order_delivered_customer_date'] - orders['order_purchase_timestamp']).dt.days\n",
    "\n",
    "orders['shipping_time'] = (orders['order_delivered_customer_date'] - orders['order_delivered_carrier_date']).dt.days\n",
    "\n",
    "orders['estimated_vs_actual_delivery'] = (orders['order_delivered_customer_date'] - orders['order_estimated_delivery_date']).dt.days"
   ]
  },
  {
   "cell_type": "code",
   "execution_count": 24,
   "id": "e0b32341-5cf9-4c67-a734-d56dcc4dd6be",
   "metadata": {},
   "outputs": [
    {
     "name": "stdout",
     "output_type": "stream",
     "text": [
      "  purchase_day_of_week  purchase_hour_of_day  seller_handling_time_days  \\\n",
      "0               Monday                    10                        2.0   \n",
      "1              Tuesday                    20                        0.0   \n",
      "2            Wednesday                     8                        0.0   \n",
      "3             Saturday                    19                        3.0   \n",
      "4              Tuesday                    21                        0.0   \n",
      "\n",
      "   product_count  seller_count  delivery_time  shipping_time  \\\n",
      "0            1.0           1.0            8.0            6.0   \n",
      "1            1.0           1.0           13.0           12.0   \n",
      "2            1.0           1.0            9.0            9.0   \n",
      "3            1.0           1.0           13.0            9.0   \n",
      "4            1.0           1.0            2.0            1.0   \n",
      "\n",
      "   estimated_vs_actual_delivery  \n",
      "0                          -8.0  \n",
      "1                          -6.0  \n",
      "2                         -18.0  \n",
      "3                         -13.0  \n",
      "4                         -10.0  \n"
     ]
    }
   ],
   "source": [
    "order_details = order_items.groupby('order_id').agg(\n",
    "    product_count=('product_id', 'nunique'),\n",
    "    seller_count=('seller_id', 'nunique')\n",
    ").reset_index()\n",
    "\n",
    "orders = pd.merge(orders, order_details, on='order_id', how='left')\n",
    "\n",
    "orders['product_count'] = orders['product_count'].fillna(0)\n",
    "orders['seller_count'] = orders['seller_count'].fillna(0)\n",
    "\n",
    "print(orders[[\n",
    "    'purchase_day_of_week',\n",
    "    'purchase_hour_of_day',\n",
    "    'seller_handling_time_days',\n",
    "    'product_count',\n",
    "    'seller_count',\n",
    "    'delivery_time',\n",
    "    'shipping_time',\n",
    "    'estimated_vs_actual_delivery'\n",
    "]].head())"
   ]
  },
  {
   "cell_type": "markdown",
   "id": "c1079a4e-6716-44e6-b898-2a8d0efbfa71",
   "metadata": {},
   "source": [
    "## Summaries & KPIs"
   ]
  },
  {
   "cell_type": "markdown",
   "id": "147ba655-b30e-421f-a5ac-dac3585fcd69",
   "metadata": {},
   "source": [
    "### Sales "
   ]
  },
  {
   "cell_type": "markdown",
   "id": "2aac3d40-be0c-49d5-9726-2debfc40d3e2",
   "metadata": {
    "jp-MarkdownHeadingCollapsed": true
   },
   "source": [
    "##### Core Sales KPIs"
   ]
  },
  {
   "cell_type": "code",
   "execution_count": 25,
   "id": "6f8ef442-7b23-4c5e-bf8b-74ca4745dea1",
   "metadata": {},
   "outputs": [],
   "source": [
    "# (Order Value) \n",
    "order_items['order_item_value'] = order_items['price'] + order_items['freight_value']\n",
    "\n",
    "order_values = order_items.groupby('order_id')['order_item_value'].sum().reset_index()\n",
    "order_values.rename(columns={'order_item_value': 'order_value'}, inplace=True)"
   ]
  },
  {
   "cell_type": "code",
   "execution_count": 26,
   "id": "d6871783-056b-4833-8846-ab6a17381c40",
   "metadata": {},
   "outputs": [],
   "source": [
    "# (Sales KPIs)\n",
    "total_revenue = order_values['order_value'].sum()\n",
    "\n",
    "total_orders = order_values['order_id'].nunique()\n",
    "\n",
    "average_order_value = total_revenue / total_orders"
   ]
  },
  {
   "cell_type": "code",
   "execution_count": 27,
   "id": "b4ade87b-71b3-4620-94c0-7032ad273b8a",
   "metadata": {},
   "outputs": [
    {
     "name": "stdout",
     "output_type": "stream",
     "text": [
      "--- Core Sales KPIs ---\n",
      "Total Revenue: $15,843,553.24\n",
      "Total Orders: 98,666\n",
      "Average Order Value (AOV): $160.58\n"
     ]
    }
   ],
   "source": [
    "print(\"--- Core Sales KPIs ---\")\n",
    "print(f\"Total Revenue: ${total_revenue:,.2f}\")\n",
    "print(f\"Total Orders: {total_orders:,}\")\n",
    "print(f\"Average Order Value (AOV): ${average_order_value:,.2f}\")"
   ]
  },
  {
   "cell_type": "markdown",
   "id": "952835b3-fce8-47b2-9470-c8c5343b390c",
   "metadata": {
    "jp-MarkdownHeadingCollapsed": true
   },
   "source": [
    "##### Sales Trend Analysis"
   ]
  },
  {
   "cell_type": "code",
   "execution_count": 28,
   "id": "11d5e088-2c6a-426e-8941-e8f2087ea26c",
   "metadata": {},
   "outputs": [],
   "source": [
    "sales_trends_df = pd.merge(orders, order_values, on='order_id')\n",
    "sales_trends_df.set_index('order_purchase_timestamp', inplace=True)\n",
    "\n",
    "monthly_revenue = sales_trends_df['order_value'].resample('ME').sum()"
   ]
  },
  {
   "cell_type": "code",
   "execution_count": 29,
   "id": "38bf0777-b05b-44bd-a94e-8ae266a18574",
   "metadata": {},
   "outputs": [
    {
     "data": {
      "image/png": "[encoded data removed]",
      "text/plain": [
       "<Figure size 1600x700 with 1 Axes>"
      ]
     },
     "metadata": {},
     "output_type": "display_data"
    }
   ],
   "source": [
    "plt.figure(figsize=(16, 7))\n",
    "sns.lineplot(x=monthly_revenue.index, y=monthly_revenue.values, marker='o')\n",
    "\n",
    "plt.title('Monthly Sales Revenue Trend', fontsize=16)\n",
    "plt.xlabel('Month', fontsize=12)\n",
    "plt.ylabel('Total Revenue ($)', fontsize=12)\n",
    "plt.xticks(rotation=45)\n",
    "plt.grid(axis='y', linestyle='--')\n",
    "plt.show()"
   ]
  },
  {
   "cell_type": "code",
   "execution_count": 30,
   "id": "a4f64c4d-b1fb-493f-9dd7-026e1b8641a6",
   "metadata": {},
   "outputs": [
    {
     "name": "stdout",
     "output_type": "stream",
     "text": [
      "--- Monthly Revenue and MoM Growth ---\n",
      "                             revenue     MoM_growth\n",
      "order_purchase_timestamp                           \n",
      "2016-09-30                    354.75            NaN\n",
      "2016-10-31                  56808.84   15913.767442\n",
      "2016-11-30                      0.00    -100.000000\n",
      "2016-12-31                     19.62            NaN\n",
      "2017-01-31                 137188.49  699127.777778\n",
      "2017-02-28                 286280.62     108.676850\n",
      "2017-03-31                 432048.59      50.917862\n",
      "2017-04-30                 412422.24      -4.542626\n",
      "2017-05-31                 585996.95      42.086651\n",
      "2017-06-30                 502963.04     -14.169683\n",
      "2017-07-31                 584971.62      16.305091\n",
      "2017-08-31                 668204.60      14.228550\n",
      "2017-09-30                 720398.91       7.811127\n",
      "2017-10-31                 769312.37       6.789774\n",
      "2017-11-30                1179008.94      53.254905\n",
      "2017-12-31                 863547.23     -26.756516\n",
      "2018-01-31                1107301.89      28.227137\n",
      "2018-02-28                 986908.96     -10.872638\n",
      "2018-03-31                1155126.82      17.044922\n",
      "2018-04-30                1159698.04       0.395733\n",
      "2018-05-31                1149781.82      -0.855069\n",
      "2018-06-30                1022147.78     -11.100718\n",
      "2018-07-31                1058207.27       3.527816\n",
      "2018-08-31                1003308.47      -5.187906\n",
      "2018-09-30                    166.46     -99.983409\n"
     ]
    }
   ],
   "source": [
    "monthly_revenue_df = monthly_revenue.to_frame(name='revenue')\n",
    "monthly_revenue_df['MoM_growth'] = monthly_revenue_df['revenue'].pct_change() * 100\n",
    "monthly_revenue_df.replace([np.inf, -np.inf], np.nan, inplace=True)\n",
    "\n",
    "print(\"--- Monthly Revenue and MoM Growth ---\")\n",
    "print(monthly_revenue_df.to_string())"
   ]
  },
  {
   "cell_type": "code",
   "execution_count": 31,
   "id": "475e0baa-0293-4b06-a08c-27c5cba7935f",
   "metadata": {},
   "outputs": [
    {
     "data": {
      "image/png": "[encoded data removed]",
      "text/plain": [
       "<Figure size 1000x600 with 1 Axes>"
      ]
     },
     "metadata": {},
     "output_type": "display_data"
    },
    {
     "name": "stdout",
     "output_type": "stream",
     "text": [
      "--- Quarterly Revenue Data ---\n",
      "                             revenue\n",
      "order_purchase_timestamp            \n",
      "2016-09-30                    354.75\n",
      "2016-12-31                  56828.46\n",
      "2017-03-31                 855517.70\n",
      "2017-06-30                1501382.23\n",
      "2017-09-30                1973575.13\n",
      "2017-12-31                2811868.54\n",
      "2018-03-31                3249337.67\n",
      "2018-06-30                3331627.64\n",
      "2018-09-30                2061682.20\n"
     ]
    }
   ],
   "source": [
    "quarterly_revenue = sales_trends_df['order_value'].resample('QE').sum()\n",
    "\n",
    "plt.figure(figsize=(10, 6))\n",
    "quarterly_revenue.plot(kind='bar') \n",
    "plt.title('Quarterly Sales Revenue Trend', fontsize=16)\n",
    "plt.xlabel('Quarter', fontsize=12)\n",
    "plt.ylabel('Total Revenue ($)', fontsize=12)\n",
    "plt.xticks(rotation=45) \n",
    "plt.grid(axis='y', linestyle='--')\n",
    "plt.show()\n",
    "\n",
    "print(\"--- Quarterly Revenue Data ---\")\n",
    "print(quarterly_revenue.to_frame(name='revenue').to_string())"
   ]
  },
  {
   "cell_type": "markdown",
   "id": "36ac7a31-8323-4e1c-a2c8-ca7c1a4fa58c",
   "metadata": {
    "jp-MarkdownHeadingCollapsed": true
   },
   "source": [
    "##### Top/Bottom Categories Analysis        "
   ]
  },
  {
   "cell_type": "code",
   "execution_count": 32,
   "id": "ac3f6935-b28b-41bb-94ec-1ddc7c93b37d",
   "metadata": {},
   "outputs": [],
   "source": [
    "product_details = pd.merge(order_items, products, on='product_id')\n",
    "full_product_details = pd.merge(product_details, product_category_name_translation, on='product_category_name')\n",
    "\n",
    "category_kpis = full_product_details.groupby('product_category_name_english').agg(\n",
    "    total_revenue=('price', 'sum'),\n",
    "    items_sold=('product_id', 'count')\n",
    ").reset_index()"
   ]
  },
  {
   "cell_type": "code",
   "execution_count": 33,
   "id": "d4457c96-bea2-4157-b7d6-e4ab77ab996b",
   "metadata": {},
   "outputs": [
    {
     "data": {
      "image/png": "[encoded data removed]",
      "text/plain": [
       "<Figure size 800x400 with 1 Axes>"
      ]
     },
     "metadata": {},
     "output_type": "display_data"
    },
    {
     "name": "stdout",
     "output_type": "stream",
     "text": [
      "--- Top 10 Performing Categories by Revenue ---\n",
      "   product_category_name_english  total_revenue  items_sold\n",
      "43                 health_beauty     1258681.34        9670\n",
      "70                 watches_gifts     1205005.68        5991\n",
      "7                 bed_bath_table     1036988.68       11115\n",
      "65                sports_leisure      988048.97        8641\n",
      "15         computers_accessories      911954.32        7827\n",
      "39               furniture_decor      729762.49        8334\n",
      "20                    cool_stuff      635290.85        3796\n",
      "49                    housewares      632248.66        6964\n",
      "5                           auto      592720.11        4235\n",
      "42                  garden_tools      485256.46        4347\n"
     ]
    }
   ],
   "source": [
    "top_10_categories = category_kpis.sort_values(by='total_revenue', ascending=False).head(10)\n",
    "\n",
    "plt.figure(figsize=(8, 4))\n",
    "sns.barplot(x='total_revenue', y='product_category_name_english', data=top_10_categories)\n",
    "plt.title('Top 10 Product Categories by Revenue', fontsize=16)\n",
    "plt.xlabel('Total Revenue ($)', fontsize=12)\n",
    "plt.ylabel('Product Category', fontsize=12)\n",
    "plt.show()\n",
    "\n",
    "print(\"--- Top 10 Performing Categories by Revenue ---\")\n",
    "print(top_10_categories)"
   ]
  },
  {
   "cell_type": "code",
   "execution_count": null,
   "id": "610c5316-0876-464c-b8e4-ad60fc7285fc",
   "metadata": {},
   "outputs": [],
   "source": [
    "bottom_10_categories = category_kpis.sort_values(by='total_revenue', ascending=True).head(10)\n",
    "\n",
    "plt.figure(figsize=(8, 4))\n",
    "sns.barplot(x='total_revenue', y='product_category_name_english', data=bottom_10_categories)\n",
    "plt.title('Bottom 10 Product Categories by Revenue', fontsize=16)\n",
    "plt.xlabel('Total Revenue ($)', fontsize=12)\n",
    "plt.ylabel('Product Category', fontsize=12)\n",
    "plt.show()\n",
    "\n",
    "print(\"\\n--- Bottom 10 Performing Categories by Revenue ---\")\n",
    "print(bottom_10_categories)"
   ]
  },
  {
   "cell_type": "markdown",
   "id": "d720d7a7-67b6-405d-b834-03b375bcf0a3",
   "metadata": {
    "jp-MarkdownHeadingCollapsed": true
   },
   "source": [
    "##### Top/Bottom Products Analysis"
   ]
  },
  {
   "cell_type": "code",
   "execution_count": null,
   "id": "d80ab9f9-cc4f-4a19-a865-9a41619bca83",
   "metadata": {},
   "outputs": [],
   "source": [
    "product_kpis = full_product_details.groupby(['product_id', 'product_category_name_english']).agg(\n",
    "    total_revenue=('price', 'sum'),\n",
    "    items_sold=('order_id', 'count')\n",
    ").reset_index()\n",
    "\n",
    "top_10_products = product_kpis.sort_values(by='total_revenue', ascending=False).head(10)\n",
    "print(\"\\n--- Top 10 Performing Products by Revenue ---\")\n",
    "print(top_10_products.to_string())"
   ]
  },
  {
   "cell_type": "code",
   "execution_count": null,
   "id": "ce5c43c9-0967-4df8-a16f-cce7d5faaccd",
   "metadata": {},
   "outputs": [],
   "source": [
    "bottom_10_products = product_kpis.sort_values(by='total_revenue', ascending=True).head(10)\n",
    "print(\"\\n--- Bottom 10 Performing Products by Revenue ---\")\n",
    "print(bottom_10_products.to_string())"
   ]
  },
  {
   "cell_type": "markdown",
   "id": "5592e8ee-75ab-444b-b33e-868cfb471f22",
   "metadata": {
    "jp-MarkdownHeadingCollapsed": true
   },
   "source": [
    "### Customer "
   ]
  },
  {
   "cell_type": "markdown",
   "id": "e5b3c2df-b3c7-435d-bf38-75cf449a1e65",
   "metadata": {
    "jp-MarkdownHeadingCollapsed": true
   },
   "source": [
    "#### Unique Customers"
   ]
  },
  {
   "cell_type": "code",
   "execution_count": null,
   "id": "3e46ebf5-3afd-4acf-982a-fde685d589f0",
   "metadata": {},
   "outputs": [],
   "source": [
    "unique_customers_count = customers['customer_unique_id'].nunique()\n",
    "print(\"--- Customer KPIs ---\")\n",
    "print(f\"Total Unique Customers: {unique_customers_count:,}\")"
   ]
  },
  {
   "cell_type": "markdown",
   "id": "76a84a73-2c9a-48ee-862d-d19f0a305e67",
   "metadata": {
    "jp-MarkdownHeadingCollapsed": true
   },
   "source": [
    "#### Repeat Customers"
   ]
  },
  {
   "cell_type": "code",
   "execution_count": null,
   "id": "1534e7d8-89fb-424c-805d-eff63c99932f",
   "metadata": {},
   "outputs": [],
   "source": [
    "customer_orders_df = pd.merge(orders, customers, on='customer_id')\n",
    "\n",
    "order_counts_per_customer = customer_orders_df['customer_unique_id'].value_counts()\n",
    "\n",
    "repeat_customers_count = order_counts_per_customer[order_counts_per_customer > 1].count()\n",
    "repeat_customer_percentage = (repeat_customers_count / unique_customers_count) * 100\n",
    "\n",
    "print(f\"Number of Repeat Customers: {repeat_customers_count:,}\")\n",
    "print(f\"Percentage of Repeat Customers: {repeat_customer_percentage:.2f}%\")"
   ]
  },
  {
   "cell_type": "markdown",
   "id": "98afe177-0586-41c0-acd9-ad1aa81e9626",
   "metadata": {
    "jp-MarkdownHeadingCollapsed": true
   },
   "source": [
    "#### Customer Lifetime Value - CLV)"
   ]
  },
  {
   "cell_type": "code",
   "execution_count": null,
   "id": "cd3c5c5b-9786-46bb-a00b-02d1be33dfab",
   "metadata": {},
   "outputs": [],
   "source": [
    "clv_df = pd.merge(customer_orders_df, order_values, on='order_id')\n",
    "\n",
    "customer_lifetime_value = clv_df.groupby('customer_unique_id')['order_value'].sum().reset_index()\n",
    "customer_lifetime_value.rename(columns={'order_value': 'total_spent'}, inplace=True)\n",
    "\n",
    "top_10_customers = customer_lifetime_value.sort_values(by='total_spent', ascending=False).head(10)\n",
    "\n",
    "print(\"--- Top 10 Most Valuable Customers (by Total Spending) ---\")\n",
    "print(top_10_customers.to_string())"
   ]
  },
  {
   "cell_type": "markdown",
   "id": "aa2c78ff-1d66-41ac-971e-e912ae0ce4a5",
   "metadata": {
    "jp-MarkdownHeadingCollapsed": true
   },
   "source": [
    "#### Top States"
   ]
  },
  {
   "cell_type": "code",
   "execution_count": null,
   "id": "0d9230d3-884a-439b-8319-f105ae0c9454",
   "metadata": {},
   "outputs": [],
   "source": [
    "top_10_states = customers['customer_state'].value_counts().head(10)\n",
    "\n",
    "print(\"--- Top 10 States by Customer Count ---\")\n",
    "print(top_10_states)"
   ]
  },
  {
   "cell_type": "markdown",
   "id": "28a746ea-cd99-4b38-bf73-96b5bfcffce9",
   "metadata": {
    "jp-MarkdownHeadingCollapsed": true
   },
   "source": [
    "#### Top Cities"
   ]
  },
  {
   "cell_type": "code",
   "execution_count": null,
   "id": "fed00b3f-7a96-4f44-b464-903274646904",
   "metadata": {},
   "outputs": [],
   "source": [
    "top_10_cities = customers['customer_city'].value_counts().head(10)\n",
    "\n",
    "print(\"--- Top 10 Cities by Customer Count ---\")\n",
    "print(top_10_cities)"
   ]
  },
  {
   "cell_type": "markdown",
   "id": "0aa9312e-5d32-4abc-8eb6-231495ae9abb",
   "metadata": {
    "jp-MarkdownHeadingCollapsed": true
   },
   "source": [
    "#### Purchases by Day of the Week"
   ]
  },
  {
   "cell_type": "code",
   "execution_count": null,
   "id": "86b0773a-a84b-4672-b658-0a728a9d7d69",
   "metadata": {},
   "outputs": [],
   "source": [
    "plt.figure(figsize=(8, 6))\n",
    "sns.countplot(x='purchase_day_of_week', data=orders, order=['Monday', 'Tuesday', 'Wednesday', 'Thursday', 'Friday', 'Saturday', 'Sunday'])\n",
    "plt.title('Number of Orders by Day of the Week', fontsize=16)\n",
    "plt.xlabel('Day of the Week', fontsize=12)\n",
    "plt.ylabel('Number of Orders', fontsize=12)\n",
    "plt.show()"
   ]
  },
  {
   "cell_type": "markdown",
   "id": "9b9e7a38-f8c6-4eb7-987c-d17443d2042d",
   "metadata": {
    "jp-MarkdownHeadingCollapsed": true
   },
   "source": [
    "#### Purchases by Hour of the Day"
   ]
  },
  {
   "cell_type": "code",
   "execution_count": null,
   "id": "55a9ade9-74da-40ac-a6b6-3b089b616240",
   "metadata": {},
   "outputs": [],
   "source": [
    "plt.figure(figsize=(12, 6))\n",
    "sns.countplot(x='purchase_hour_of_day', data=orders)\n",
    "plt.title('Number of Orders by Hour of the Day', fontsize=16)\n",
    "plt.xlabel('Hour of the Day', fontsize=12)\n",
    "plt.ylabel('Number of Orders', fontsize=12)\n",
    "plt.show()"
   ]
  },
  {
   "cell_type": "markdown",
   "id": "ef48cb89-0ef8-41a0-bca1-f357155b2de5",
   "metadata": {
    "jp-MarkdownHeadingCollapsed": true
   },
   "source": [
    "### Seller "
   ]
  },
  {
   "cell_type": "markdown",
   "id": "b722dced-61af-4f0c-aa5a-5e634cf1d81c",
   "metadata": {
    "jp-MarkdownHeadingCollapsed": true
   },
   "source": [
    "#### Total Sellers"
   ]
  },
  {
   "cell_type": "code",
   "execution_count": null,
   "id": "fa5d7a06-32d8-4a66-b0e8-feac43e7a8a4",
   "metadata": {},
   "outputs": [],
   "source": [
    "total_sellers = order_items['seller_id'].nunique()\n",
    "print(f\"Total Unique Sellers: {total_sellers:,}\")"
   ]
  },
  {
   "cell_type": "markdown",
   "id": "39f06cd2-2131-4888-937a-0f07473a9254",
   "metadata": {
    "jp-MarkdownHeadingCollapsed": true
   },
   "source": [
    "#### Top 10 Sellers by Total Revenue"
   ]
  },
  {
   "cell_type": "code",
   "execution_count": null,
   "id": "ac8d5330-6a11-4def-bbe1-a23a1fbb3d31",
   "metadata": {},
   "outputs": [],
   "source": [
    "seller_revenue = order_items.groupby('seller_id')['price'].sum().reset_index()\n",
    "seller_revenue.rename(columns={'price': 'total_revenue'}, inplace=True)\n",
    "top_10_sellers_revenue = seller_revenue.sort_values(by='total_revenue', ascending=False).head(10)\n",
    "print(\"--- Top 10 Sellers by Total Revenue ---\")\n",
    "print(top_10_sellers_revenue.to_string())"
   ]
  },
  {
   "cell_type": "markdown",
   "id": "7fa8f421-a1a9-46df-ad50-31c61f23b071",
   "metadata": {
    "jp-MarkdownHeadingCollapsed": true
   },
   "source": [
    "#### Top 10 Sellers by Number of Orders"
   ]
  },
  {
   "cell_type": "code",
   "execution_count": null,
   "id": "eebf87b4-6998-4f38-944d-60bebe634fa5",
   "metadata": {},
   "outputs": [],
   "source": [
    "seller_orders = order_items.groupby('seller_id')['order_id'].nunique().reset_index()\n",
    "seller_orders.rename(columns={'order_id': 'total_orders'}, inplace=True)\n",
    "top_10_sellers_orders = seller_orders.sort_values(by='total_orders', ascending=False).head(10)\n",
    "print(\"--- Top 10 Sellers by Number of Orders ---\")\n",
    "print(top_10_sellers_orders.to_string())"
   ]
  },
  {
   "cell_type": "markdown",
   "id": "badc7497-a53d-48bf-8c4b-bd9ba5f9e765",
   "metadata": {
    "jp-MarkdownHeadingCollapsed": true
   },
   "source": [
    "#### Seller Handling Time"
   ]
  },
  {
   "cell_type": "code",
   "execution_count": null,
   "id": "d4671d92-ac4e-4dbe-9534-0cb0df425f0f",
   "metadata": {},
   "outputs": [],
   "source": [
    "seller_handling_df = pd.merge(orders, order_items, on='order_id')\n",
    "avg_handling_time = seller_handling_df.groupby('seller_id')['seller_handling_time_days'].mean().reset_index()\n",
    "avg_handling_time.rename(columns={'seller_handling_time_days': 'avg_handling_days'}, inplace=True)\n",
    "fastest_sellers = avg_handling_time.sort_values(by='avg_handling_days', ascending=True).head(10)\n",
    "\n",
    "print(\"--- Top 10 Fastest Sellers (by Average Handling Time in Days) ---\")\n",
    "print(fastest_sellers.to_string())"
   ]
  },
  {
   "cell_type": "markdown",
   "id": "afc1b8c2-2943-401f-b120-72869447ab9e",
   "metadata": {
    "jp-MarkdownHeadingCollapsed": true
   },
   "source": [
    "#### Overall Top 10 Sellers"
   ]
  },
  {
   "cell_type": "code",
   "execution_count": null,
   "id": "38bfe170-c0cb-4b8b-b363-9b21caefccc7",
   "metadata": {},
   "outputs": [],
   "source": [
    "seller_summary = pd.merge(seller_revenue, seller_orders, on='seller_id')\n",
    "seller_summary = pd.merge(seller_summary, avg_handling_time, on='seller_id')\n",
    "top_10_sellers_summary = seller_summary.sort_values(by='total_revenue', ascending=False).head(10)\n",
    "\n",
    "print(\"--- Overall Top 10 Sellers ---\")\n",
    "print(top_10_sellers_summary.to_string())"
   ]
  },
  {
   "cell_type": "markdown",
   "id": "51e47c9c-9e94-4543-9a3c-8b43b0b2bb4a",
   "metadata": {
    "jp-MarkdownHeadingCollapsed": true
   },
   "source": [
    "### Logistics "
   ]
  },
  {
   "cell_type": "markdown",
   "id": "1f3316c4-a670-4949-bc79-538898db78ed",
   "metadata": {
    "jp-MarkdownHeadingCollapsed": true
   },
   "source": [
    "#### Core Logistics KPIs"
   ]
  },
  {
   "cell_type": "code",
   "execution_count": null,
   "id": "43acc826-38d2-48a5-94bf-f25dc54d23bb",
   "metadata": {},
   "outputs": [],
   "source": [
    "avg_delivery_time = orders['delivery_time'].mean()\n",
    "avg_shipping_time = orders['shipping_time'].mean()\n",
    "avg_estimated_vs_actual = orders['estimated_vs_actual_delivery'].mean()\n",
    "\n",
    "print(\"--- Core Logistics KPIs ---\")\n",
    "print(f\"Average Total Delivery Time: {avg_delivery_time:.2f} days\")\n",
    "print(f\"Average Shipping Time (Carrier): {avg_shipping_time:.2f} days\")\n",
    "print(f\"Average Estimated vs. Actual Delivery: {avg_estimated_vs_actual:.2f} days\")"
   ]
  },
  {
   "cell_type": "markdown",
   "id": "ae49e77f-a24d-4447-8a19-36970f6827d8",
   "metadata": {
    "jp-MarkdownHeadingCollapsed": true
   },
   "source": [
    "#### Late Orders %"
   ]
  },
  {
   "cell_type": "code",
   "execution_count": null,
   "id": "d1a704cc-8196-4777-a4ad-ffb8f54b453e",
   "metadata": {},
   "outputs": [],
   "source": [
    "orders['is_late'] = orders['estimated_vs_actual_delivery'] > 0\n",
    "\n",
    "late_orders_count = orders['is_late'].sum()\n",
    "total_delivered_orders = orders['order_delivered_customer_date'].notna().sum()\n",
    "late_orders_percentage = (late_orders_count / total_delivered_orders) * 100\n",
    "print(f\"Percentage of Late Orders: {late_orders_percentage:.2f}%\")"
   ]
  },
  {
   "cell_type": "markdown",
   "id": "19ad0053-1614-4efc-be12-78011efb4900",
   "metadata": {
    "jp-MarkdownHeadingCollapsed": true
   },
   "source": [
    "#### Delivery Time Distribution"
   ]
  },
  {
   "cell_type": "code",
   "execution_count": null,
   "id": "98ab32a9-a0c9-4f39-82a8-1ac3211c6eea",
   "metadata": {},
   "outputs": [],
   "source": [
    "plt.figure(figsize=(12, 7))\n",
    "sns.histplot(data=orders, x='delivery_time', bins=50, kde=True) \n",
    "plt.title('Distribution of Total Delivery Time', fontsize=16)\n",
    "plt.xlabel('Total Delivery Time (Days)', fontsize=12)\n",
    "plt.ylabel('Number of Orders', fontsize=12)\n",
    "plt.show()"
   ]
  },
  {
   "cell_type": "markdown",
   "id": "6fef315c-6211-4cbf-92e4-9d6bc95f2a5c",
   "metadata": {
    "jp-MarkdownHeadingCollapsed": true
   },
   "source": [
    "#### Top 10 States by Delayed Order Count"
   ]
  },
  {
   "cell_type": "code",
   "execution_count": null,
   "id": "f5c8cab9-7512-430d-898d-522db7579335",
   "metadata": {},
   "outputs": [],
   "source": [
    "late_orders = orders[orders['is_late'] == True]\n",
    "late_orders_geo = pd.merge(late_orders, customers, on='customer_id')\n",
    "\n",
    "top_10_late_states = late_orders_geo['customer_state'].value_counts().head(10)\n",
    "\n",
    "plt.figure(figsize=(12, 7))\n",
    "sns.barplot(x=top_10_late_states.index, y=top_10_late_states.values)\n",
    "plt.title('Top 10 States with the Most Delayed Orders', fontsize=16)\n",
    "plt.xlabel('State Code', fontsize=12)\n",
    "plt.ylabel('Number of Delayed Orders', fontsize=12)\n",
    "plt.show()\n",
    "\n",
    "print(\"--- Top 10 States by Delayed Order Count ---\")\n",
    "print(top_10_late_states)"
   ]
  },
  {
   "cell_type": "markdown",
   "id": "3c0f0a63-84d9-4af4-8ad8-b9e4005e4dd7",
   "metadata": {
    "jp-MarkdownHeadingCollapsed": true
   },
   "source": [
    "#### Top 10 States by Late Order Rate"
   ]
  },
  {
   "cell_type": "code",
   "execution_count": null,
   "id": "4ad9b51b-fedf-464d-8cb0-cc511cb81c4a",
   "metadata": {},
   "outputs": [],
   "source": [
    "orders_with_geo = pd.merge(orders, customers, on='customer_id')\n",
    "state_performance = orders_with_geo.groupby('customer_state').agg(\n",
    "    total_orders=('order_id', 'count'),\n",
    "    late_orders=('is_late', 'sum') # 'is_late' is boolean (True=1, False=0), so sum() counts the late ones\n",
    ").reset_index()\n",
    "\n",
    "state_performance['late_order_rate'] = (state_performance['late_orders'] / state_performance['total_orders']) * 100\n",
    "top_10_late_rate_states = state_performance.sort_values(by='late_order_rate', ascending=False).head(10)\n",
    "\n",
    "plt.figure(figsize=(10, 6))\n",
    "sns.barplot(x='late_order_rate', y='customer_state', data=top_10_late_rate_states)\n",
    "plt.title('Top 10 States by Percentage of Delayed Orders', fontsize=16)\n",
    "plt.xlabel('Late Order Rate (%)', fontsize=12)\n",
    "plt.ylabel('State Code', fontsize=12)\n",
    "plt.show()\n",
    "\n",
    "print(\"--- Top 10 States by Late Order Rate ---\")\n",
    "print(top_10_late_rate_states)"
   ]
  },
  {
   "cell_type": "markdown",
   "id": "5ee5aa0d-78d3-421b-ac58-c6eb0a6fe5b3",
   "metadata": {
    "jp-MarkdownHeadingCollapsed": true
   },
   "source": [
    "### Payment "
   ]
  },
  {
   "cell_type": "markdown",
   "id": "5780d3a0-9c1d-48a7-acfa-d4e0520dcaa7",
   "metadata": {
    "jp-MarkdownHeadingCollapsed": true
   },
   "source": [
    "#### Payment Methods Distribution"
   ]
  },
  {
   "cell_type": "code",
   "execution_count": null,
   "id": "4991fbbe-1e4b-474f-a21d-e785c0ea41f4",
   "metadata": {},
   "outputs": [],
   "source": [
    "payment_distribution = orders_payments['payment_type'].value_counts()\n",
    "\n",
    "plt.figure(figsize=(8, 4))\n",
    "sns.barplot(x=payment_distribution.index, y=payment_distribution.values)\n",
    "plt.title('Distribution of Payment Methods', fontsize=16)\n",
    "plt.xlabel('Payment Type', fontsize=12)\n",
    "plt.ylabel('Number of Transactions', fontsize=12)\n",
    "plt.xticks(rotation=45)\n",
    "plt.show()\n",
    "\n",
    "print(\"--- Payment Methods Distribution ---\")\n",
    "print(payment_distribution)"
   ]
  },
  {
   "cell_type": "markdown",
   "id": "470ca889-2ece-4a70-8df6-34e593e940f7",
   "metadata": {
    "jp-MarkdownHeadingCollapsed": true
   },
   "source": [
    "#### Total Payment Value by Payment Type"
   ]
  },
  {
   "cell_type": "code",
   "execution_count": null,
   "id": "dc613bc0-223e-4a79-ac06-fa0c6cd11fae",
   "metadata": {},
   "outputs": [],
   "source": [
    "value_per_payment_type = orders_payments.groupby('payment_type')['payment_value'].sum().sort_values(ascending=False)\n",
    "print(\"--- Total Payment Value by Payment Type ---\")\n",
    "print(value_per_payment_type)"
   ]
  },
  {
   "cell_type": "markdown",
   "id": "33c688b0-9126-4f93-b894-357c5cbbaeb8",
   "metadata": {
    "jp-MarkdownHeadingCollapsed": true
   },
   "source": [
    "#### Distribution of Installments"
   ]
  },
  {
   "cell_type": "code",
   "execution_count": null,
   "id": "7aa1c4a9-36ba-4a95-b699-c67513ea4638",
   "metadata": {},
   "outputs": [],
   "source": [
    "credit_card_payments = orders_payments[orders_payments['payment_type'] == 'credit_card']\n",
    "avg_installments = credit_card_payments['payment_installments'].mean()\n",
    "\n",
    "print(\"--- Installment KPIs (for Credit Card payments) ---\")\n",
    "print(f\"Average number of installments: {avg_installments:.2f}\")"
   ]
  },
  {
   "cell_type": "code",
   "execution_count": null,
   "id": "ea6c0c9f-baf5-4808-ad03-5fb0a3a12404",
   "metadata": {},
   "outputs": [],
   "source": [
    "installments_distribution = credit_card_payments['payment_installments'].value_counts().sort_index()\n",
    "\n",
    "plt.figure(figsize=(10, 6))\n",
    "sns.barplot(x=installments_distribution.index, y=installments_distribution.values)\n",
    "plt.title('Distribution of Payment Installments (Credit Card)', fontsize=16)\n",
    "plt.xlabel('Number of Installments', fontsize=12)\n",
    "plt.ylabel('Number of Transactions', fontsize=12)\n",
    "plt.show()\n",
    "\n",
    "print(\"\\n--- Distribution of Installments ---\")\n",
    "print(installments_distribution)"
   ]
  },
  {
   "cell_type": "markdown",
   "id": "2c1b8f9d-cf89-4d79-9a26-0ae5f10551cd",
   "metadata": {
    "jp-MarkdownHeadingCollapsed": true
   },
   "source": [
    "#### Electronic vs. Cash/Voucher Payment Ratio"
   ]
  },
  {
   "cell_type": "code",
   "execution_count": null,
   "id": "b4214e14-ebab-49f4-8080-1c280d1e2050",
   "metadata": {},
   "outputs": [],
   "source": [
    "def classify_payment(payment_type):\n",
    "    if payment_type in ['credit_card', 'debit_card']:\n",
    "        return 'Electronic'\n",
    "    else: \n",
    "        return 'Cash / Voucher'\n",
    "\n",
    "orders_payments['payment_category'] = orders_payments['payment_type'].apply(classify_payment)\n",
    "payment_category_dist = orders_payments['payment_category'].value_counts()\n",
    "\n",
    "plt.figure(figsize=(4, 4))\n",
    "plt.pie(payment_category_dist, labels=payment_category_dist.index, autopct='%1.1f%%', startangle=140)\n",
    "plt.title('Electronic vs. Cash/Voucher Payment Ratio', fontsize=16)\n",
    "plt.ylabel('') # Hide the y-label as it's not needed for a pie chart\n",
    "plt.show()\n",
    "\n",
    "print(\"--- Payment Category Distribution ---\")\n",
    "print(payment_category_dist)"
   ]
  },
  {
   "cell_type": "markdown",
   "id": "3cc06ccf-6cc6-453a-964c-05b23a04f7b2",
   "metadata": {
    "jp-MarkdownHeadingCollapsed": true
   },
   "source": [
    "### Review "
   ]
  },
  {
   "cell_type": "markdown",
   "id": "3d58662e-84b7-4e6e-a508-82ccc45d3faf",
   "metadata": {
    "jp-MarkdownHeadingCollapsed": true
   },
   "source": [
    "#### Review Score"
   ]
  },
  {
   "cell_type": "code",
   "execution_count": null,
   "id": "38b196b9-00f5-4906-9ca1-269813c104db",
   "metadata": {},
   "outputs": [],
   "source": [
    "score_distribution = reviews['review_score'].value_counts().sort_index()\n",
    "\n",
    "plt.figure(figsize=(8, 2))\n",
    "sns.barplot(x=score_distribution.index, y=score_distribution.values)\n",
    "plt.title('Distribution of Review Scores', fontsize=16)\n",
    "plt.xlabel('Review Score (Stars)', fontsize=12)\n",
    "plt.ylabel('Number of Reviews', fontsize=12)\n",
    "plt.show()\n",
    "\n",
    "print(\"--- Review Score Distribution ---\")\n",
    "print(score_distribution)"
   ]
  },
  {
   "cell_type": "code",
   "execution_count": null,
   "id": "80f89fef-b44f-4e1e-a892-d9244c70ffe8",
   "metadata": {},
   "outputs": [],
   "source": [
    "average_score = reviews['review_score'].mean()\n",
    "\n",
    "print(\"--- Average Review Score ---\")\n",
    "print(f\"The overall average review score is: {average_score:.2f} out of 5\")"
   ]
  },
  {
   "cell_type": "markdown",
   "id": "d39ba4c2-b12c-466f-aa49-1b98d1fa2c7c",
   "metadata": {
    "jp-MarkdownHeadingCollapsed": true
   },
   "source": [
    "#### Average Delivery Time per Review Score"
   ]
  },
  {
   "cell_type": "code",
   "execution_count": null,
   "id": "557e6916-2c9b-4863-9fd8-65135d000f2c",
   "metadata": {},
   "outputs": [],
   "source": [
    "reviews_with_delivery = pd.merge(reviews, orders, on='order_id')\n",
    "avg_delivery_per_score = reviews_with_delivery.groupby('review_score')['delivery_time'].mean().reset_index()\n",
    "\n",
    "plt.figure(figsize=(10, 4))\n",
    "sns.barplot(x='review_score', y='delivery_time', data=avg_delivery_per_score)\n",
    "plt.title('Average Delivery Time per Review Score', fontsize=16)\n",
    "plt.xlabel('Review Score (Stars)', fontsize=10)\n",
    "plt.ylabel('Average Delivery Time (Days)', fontsize=10)\n",
    "plt.show()\n",
    "\n",
    "print(\"--- Average Delivery Time per Review Score ---\")\n",
    "print(avg_delivery_per_score)"
   ]
  },
  {
   "cell_type": "markdown",
   "id": "4b8e993d-7849-4887-bb49-554235407e2e",
   "metadata": {
    "jp-MarkdownHeadingCollapsed": true
   },
   "source": [
    "#### Top Positive vs Negative Categories"
   ]
  },
  {
   "cell_type": "code",
   "execution_count": null,
   "id": "9741f82a-f273-4ba9-b657-38099cfd8042",
   "metadata": {},
   "outputs": [],
   "source": [
    "reviews_items = pd.merge(reviews, order_items, on='order_id')\n",
    "reviews_products = pd.merge(reviews_items, products, on='product_id')\n",
    "full_review_details = pd.merge(reviews_products, product_category_name_translation, on='product_category_name')\n",
    "\n",
    "avg_score_per_category = full_review_details.groupby('product_category_name_english')['review_score'].mean().reset_index()\n",
    "\n",
    "top_rated_categories = avg_score_per_category.sort_values(by='review_score', ascending=False).head(10)\n",
    "print(\"--- Top 10 Best Rated Product Categories ---\")\n",
    "print(top_rated_categories.to_string())\n",
    "\n",
    "bottom_rated_categories = avg_score_per_category.sort_values(by='review_score', ascending=True).head(10)\n",
    "print(\"\\n--- Bottom 10 Worst Rated Product Categories ---\")\n",
    "print(bottom_rated_categories.to_string())"
   ]
  },
  {
   "cell_type": "markdown",
   "id": "ad5f46bb-765c-45ce-8aba-70810af6eff1",
   "metadata": {},
   "source": [
    "### Customer Segmentation using RFM"
   ]
  },
  {
   "cell_type": "code",
   "execution_count": null,
   "id": "51f90823-9914-4975-9282-93367f788ff0",
   "metadata": {},
   "outputs": [],
   "source": [
    "rfm_base_df = pd.merge(customers, orders, on='customer_id')\n",
    "rfm_base_df = pd.merge(rfm_base_df, order_values, on='order_id')\n",
    "\n",
    "snapshot_date = rfm_base_df['order_purchase_timestamp'].max() + dt.timedelta(days=1)\n",
    "recency_df = rfm_base_df.groupby('customer_unique_id')['order_purchase_timestamp'].max().reset_index()\n",
    "recency_df['recency'] = (snapshot_date - recency_df['order_purchase_timestamp']).dt.days\n",
    "\n",
    "frequency_df = rfm_base_df.groupby('customer_unique_id')['order_id'].nunique().reset_index()\n",
    "frequency_df.rename(columns={'order_id': 'frequency'}, inplace=True)\n",
    "\n",
    "monetary_df = rfm_base_df.groupby('customer_unique_id')['order_value'].sum().reset_index()\n",
    "monetary_df.rename(columns={'order_value': 'monetary'}, inplace=True)\n",
    "\n",
    "rfm_df = pd.merge(recency_df[['customer_unique_id', 'recency']], frequency_df, on='customer_unique_id')\n",
    "rfm_df = pd.merge(rfm_df, monetary_df, on='customer_unique_id')"
   ]
  },
  {
   "cell_type": "code",
   "execution_count": null,
   "id": "fcd1e868-aa55-4180-9c29-ec60c24b1a4c",
   "metadata": {},
   "outputs": [],
   "source": [
    "rfm_df['R_Score'] = pd.qcut(rfm_df['recency'], q=4, labels=[4, 3, 2, 1]).astype(int)\n",
    "rfm_df['F_Score'] = pd.qcut(rfm_df['frequency'].rank(method='first'), q=4, labels=[1, 2, 3, 4]).astype(int)\n",
    "rfm_df['M_Score'] = pd.qcut(rfm_df['monetary'], q=4, labels=[1, 2, 3, 4]).astype(int)\n",
    "\n",
    "rfm_df['RFM_Score'] = rfm_df['R_Score'] + rfm_df['F_Score'] + rfm_df['M_Score']\n",
    "\n",
    "print(\"---  RFM Scores Calculated ---\")\n",
    "print(rfm_df[['customer_unique_id', 'recency', 'frequency', 'monetary', 'RFM_Score']].head())"
   ]
  },
  {
   "cell_type": "code",
   "execution_count": null,
   "id": "82bc6e89-40f6-41e6-ae60-1a0f7e3cdacb",
   "metadata": {},
   "outputs": [],
   "source": [
    "def assign_segment_name(score):\n",
    "    if score >= 10:\n",
    "        return 'Best Customers' \n",
    "    elif score >= 7:\n",
    "        return 'Potential Loyalists'\n",
    "    elif score >= 5:\n",
    "        return 'At Risk Customers'\n",
    "    else:\n",
    "        return 'Lost Customers'\n",
    "\n",
    "\n",
    "rfm_df['RFM_Segment_Name'] = rfm_df['RFM_Score'].apply(assign_segment_name)\n",
    "\n",
    "segment_analysis = rfm_df.groupby('RFM_Segment_Name').agg(\n",
    "    customer_count=('customer_unique_id', 'count'),\n",
    "    avg_recency=('recency', 'mean'),\n",
    "    avg_frequency=('frequency', 'mean'),\n",
    "    avg_monetary=('monetary', 'mean'),\n",
    "    avg_RFM_Score=('RFM_Score', 'mean')\n",
    ").sort_values(by='avg_RFM_Score', ascending=False)\n",
    "\n",
    "plt.figure(figsize=(10, 4))\n",
    "sns.countplot(y='RFM_Segment_Name', data=rfm_df, order=segment_analysis.index)\n",
    "plt.title('Customer Segmentation based on RFM Score', fontsize=16)\n",
    "plt.xlabel('Number of Customers', fontsize=12)\n",
    "plt.ylabel('Segment', fontsize=12)\n",
    "plt.show()\n",
    "\n",
    "print(\"--- Analysis of Customer Segments ---\")\n",
    "print(segment_analysis)"
   ]
  },
  {
   "cell_type": "code",
   "execution_count": null,
   "id": "38bce99f-9a46-4fe9-9357-c49342bb2608",
   "metadata": {},
   "outputs": [],
   "source": []
  }
 ],
 "metadata": {
  "kernelspec": {
   "display_name": "Python 3 (ipykernel)",
   "language": "python",
   "name": "python3"
  },
  "language_info": {
   "codemirror_mode": {
    "name": "ipython",
    "version": 3
   },
   "file_extension": ".py",
   "mimetype": "text/x-python",
   "name": "python",
   "nbconvert_exporter": "python",
   "pygments_lexer": "ipython3",
   "version": "3.13.2"
  }
 },
 "nbformat": 4,
 "nbformat_minor": 5
}
